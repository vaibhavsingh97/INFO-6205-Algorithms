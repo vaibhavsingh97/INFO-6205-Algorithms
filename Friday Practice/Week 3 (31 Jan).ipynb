{
 "cells": [
  {
   "cell_type": "markdown",
   "id": "aaac9ed7-63f1-49e7-aed9-bf6a42876880",
   "metadata": {},
   "source": [
    "# Questions"
   ]
  },
  {
   "cell_type": "markdown",
   "id": "6b868b11-9c07-4aef-8a9d-fea3505a59cb",
   "metadata": {},
   "source": [
    "## 1. Given an array arr[] of size n-1 with distinct integers in the range of [1, n]. This array represents a permutation of the integers from 1 to n with one element missing. Find the missing element in the array. Write code for O(n^2), O(n logn) and O(n)\n",
    "Ref: https://www.geeksforgeeks.org/find-the-missing-number/"
   ]
  },
  {
   "cell_type": "markdown",
   "id": "fb83dbb2-42fa-4e5f-b090-f58290f35eec",
   "metadata": {},
   "source": [
    "## 2. \"A D.E.I. tree\" = Diversity, Equity and inclusion. Given a binary tree as a preorder Tree with L/N info. Construct the binary tree and color the tree with rainbow colors (VIBGYOR)\n",
    "ex: \n",
    "```python\n",
    "pre = [10,20,30,40,50,60]\n",
    "preLN = ['N', 'N', 'L', 'L', 'N', 'L']\n",
    "```"
   ]
  },
  {
   "cell_type": "markdown",
   "id": "cb614c40-760f-45cb-91b2-b1f065de32b5",
   "metadata": {},
   "source": [
    "# 3. Figure out the time complexity and optimize this\n",
    "\n",
    "```python\n",
    "# height of a binary tree\n",
    "def get_height(root):\n",
    "    if root is None:\n",
    "        return 0\n",
    "    return 1 + max(get_height(root.left), get_height(root.right))\n",
    "\n",
    "# is it balanced?\n",
    "def is_balanced(root):\n",
    "    # base case\n",
    "    if root is None:\n",
    "        return True\n",
    "    if 1 < abs(get_height(root.left) - get_height(root.right)):\n",
    "        return False\n",
    "    else:\n",
    "        return is_balanced(root.left) and is_balanced(root.right)\n",
    "```\n",
    "\n"
   ]
  },
  {
   "cell_type": "markdown",
   "id": "698fe818-84f2-40e7-801f-86a8573d3acc",
   "metadata": {},
   "source": [
    "## 4. Given a sorted array with unique numbers build a BST in a minimal time with minimum height"
   ]
  }
 ],
 "metadata": {
  "kernelspec": {
   "display_name": "Python 3 (ipykernel)",
   "language": "python",
   "name": "python3"
  },
  "language_info": {
   "codemirror_mode": {
    "name": "ipython",
    "version": 3
   },
   "file_extension": ".py",
   "mimetype": "text/x-python",
   "name": "python",
   "nbconvert_exporter": "python",
   "pygments_lexer": "ipython3",
   "version": "3.12.8"
  }
 },
 "nbformat": 4,
 "nbformat_minor": 5
}
