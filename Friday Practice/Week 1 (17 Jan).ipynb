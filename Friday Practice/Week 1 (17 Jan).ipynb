{
 "cells": [
  {
   "cell_type": "markdown",
   "id": "6ef54078-95f7-47c9-8b61-ae7d6d15cfe2",
   "metadata": {},
   "source": [
    "# Questions"
   ]
  },
  {
   "cell_type": "markdown",
   "id": "eb9a5c50-7e94-43b9-9ac5-ec4204eeaff6",
   "metadata": {},
   "source": [
    "## 1. Given an integer (32 bits) count it's set bits, a brute force also\n",
    "```example: for 52, binary representation is 0x110100, and the output should be 3```"
   ]
  },
  {
   "cell_type": "markdown",
   "id": "f456ac3f-8fc9-4211-a477-ceecc8cbe37e",
   "metadata": {},
   "source": [
    "## 2. Reverse a linked list in-situ (aka in place)\n",
    "\n",
    "Need both:\n",
    "1. Iterative solution\n",
    "2. Recursive solution\n",
    "\n",
    "```python\n",
    "class Node:\n",
    "   def __init__(self, val):\n",
    "      self.val = val\n",
    "      self. next = None\n",
    "```"
   ]
  },
  {
   "cell_type": "markdown",
   "id": "dc07b27d-e07f-412f-bb45-52ff24dd0b17",
   "metadata": {},
   "source": [
    "## 3. Write code for following \n",
    "### a) Write the BWT(s)\n",
    "### b) Write the inverse transform BWT^-1(s)\n",
    "\n",
    "```\n",
    "^BANANANA$ ---------------------------------> BNN^AA$A\n",
    "\n",
    "                                SORT THE SECOND LIST                PICK THE LAST INDEX OF THE STRING IN THE\n",
    "^BANANAN$      ^BANANA$            ANANA$^B                         BNN^AA$A\n",
    "               $^BANANA            ANA$^BAN\n",
    "               A$^BANAN            A$^BANAN\n",
    "               NA$^BANA            BANANA$^\n",
    "               ANA$^BAN            NANA$^BA\n",
    "               NANA$^BA            NA$^BANA\n",
    "               ANANA$^B            ^BANANA$\n",
    "               BANANA$^            $^BANANA\n",
    "```\n",
    "               \n"
   ]
  },
  {
   "cell_type": "markdown",
   "id": "631ca138-7611-4617-a5d3-66c5907a2c5d",
   "metadata": {},
   "source": [
    "## 4. Detect if a binary tree is balanced (# r is the root Node)"
   ]
  }
 ],
 "metadata": {
  "kernelspec": {
   "display_name": "Python 3 (ipykernel)",
   "language": "python",
   "name": "python3"
  },
  "language_info": {
   "codemirror_mode": {
    "name": "ipython",
    "version": 3
   },
   "file_extension": ".py",
   "mimetype": "text/x-python",
   "name": "python",
   "nbconvert_exporter": "python",
   "pygments_lexer": "ipython3",
   "version": "3.12.8"
  }
 },
 "nbformat": 4,
 "nbformat_minor": 5
}
