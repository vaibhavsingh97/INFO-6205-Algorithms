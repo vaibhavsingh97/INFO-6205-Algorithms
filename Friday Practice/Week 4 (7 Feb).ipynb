{
 "cells": [
  {
   "cell_type": "markdown",
   "id": "302f2347-e555-4ef9-b862-1dccca2bb413",
   "metadata": {},
   "source": [
    "# Questions"
   ]
  },
  {
   "cell_type": "markdown",
   "id": "60f79c89-bc5a-47ce-8404-008235dff797",
   "metadata": {},
   "source": [
    "## 1. Print the bits of a number with an iterative procedure and then a recursive procedure.\n",
    "\n",
    "INPUT: `12`  \n",
    "OUTPUT: `1100`"
   ]
  },
  {
   "cell_type": "markdown",
   "id": "5a21f7dd-8856-404b-b5a5-b4b9e0c13e89",
   "metadata": {},
   "source": [
    "## 2. Towers of Hanoi but for `N` Pegs using 1 buffer"
   ]
  },
  {
   "cell_type": "markdown",
   "id": "e0b718e5-e8ad-443c-971d-f86785b667e5",
   "metadata": {},
   "source": [
    "## 3. a) A graph is given by a list of 2 integers (eg. `undirected_graph = [12 21 23 32 43 34 41 14 45 54] directed_graph = [12 14 23 43 45 56]`). Write a function that returns the successor of any node."
   ]
  },
  {
   "cell_type": "markdown",
   "id": "c0ff7b12-97d5-49bb-88e1-5824cb694011",
   "metadata": {},
   "source": [
    "## 3. b) Find the in-order successor of any node in a BST. You may assume each node has link to it's parent"
   ]
  },
  {
   "cell_type": "markdown",
   "id": "a9773863-24d7-4523-bd70-1e3a1fa54bb0",
   "metadata": {},
   "source": [
    "## 4. You are given an `m x n` binary matrix `grid`. An island is a group of `1`'s (representing land) connected **8-directionally (horizontal or vertical or diagonal)** You may assume all four edges of the grid are surrounded by water. The area of an island is the number of cells with a value `1` in the island. Return the maximum area of an island in grid. If there is no island, return `0`.\n",
    "\n",
    "```\n",
    "Input: grid[][]= [\n",
    "                    [1, 0, 0, 0, 1, 0, 0],\n",
    "                    [0, 1, 0, 0, 1, 1, 0],\n",
    "                    [1, 1, 0, 0, 0, 0, 0],\n",
    "                    [1, 0, 0, 1, 1, 0, 0],\n",
    "                    [1, 0, 0, 1, 0, 1, 1]\n",
    "                 ]\n",
    "\n",
    "\n",
    "Output: 6\n",
    "```"
   ]
  },
  {
   "cell_type": "code",
   "execution_count": null,
   "id": "a57e95ec-579c-433b-bff4-76c8cbf8986b",
   "metadata": {},
   "outputs": [],
   "source": []
  }
 ],
 "metadata": {
  "kernelspec": {
   "display_name": "Python 3 (ipykernel)",
   "language": "python",
   "name": "python3"
  },
  "language_info": {
   "codemirror_mode": {
    "name": "ipython",
    "version": 3
   },
   "file_extension": ".py",
   "mimetype": "text/x-python",
   "name": "python",
   "nbconvert_exporter": "python",
   "pygments_lexer": "ipython3",
   "version": "3.12.8"
  }
 },
 "nbformat": 4,
 "nbformat_minor": 5
}
