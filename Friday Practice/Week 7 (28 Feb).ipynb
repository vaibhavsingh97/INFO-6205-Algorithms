{
 "cells": [
  {
   "cell_type": "markdown",
   "id": "ce64b845-edd9-42c5-afa5-e8ed7b3a42f1",
   "metadata": {},
   "source": [
    "# Questions"
   ]
  },
  {
   "cell_type": "markdown",
   "id": "ddec97ab-d8c6-49e8-9150-67e8b2cbb713",
   "metadata": {},
   "source": [
    "## 1. Implement a full recursive version of bubble sort"
   ]
  },
  {
   "cell_type": "code",
   "execution_count": 1,
   "id": "0bb7f3e4-3b91-48aa-8701-0a166789ecad",
   "metadata": {},
   "outputs": [
    {
     "ename": "SyntaxError",
     "evalue": "closing parenthesis ')' does not match opening parenthesis '[' (991546459.py, line 6)",
     "output_type": "error",
     "traceback": [
      "\u001b[0;36m  Cell \u001b[0;32mIn[1], line 6\u001b[0;36m\u001b[0m\n\u001b[0;31m    return (a[0], bs_r1(a[1:]) if a[0] <= a[0] <= a[1] else [a[1]] + bs_r1([a[0] + a[2:])\u001b[0m\n\u001b[0m                                                                                        ^\u001b[0m\n\u001b[0;31mSyntaxError\u001b[0m\u001b[0;31m:\u001b[0m closing parenthesis ')' does not match opening parenthesis '['\n"
     ]
    }
   ],
   "source": [
    "def bs_r1(a):\n",
    "    if len(a) == 2:\n",
    "        return a if a[0] >= a[1] else a[::-1]\n",
    "    elif len(a) <= 1:\n",
    "        return a\n",
    "    return (a[0], bs_r1(a[1:]) if a[0] <= a[0] <= a[1] else [a[1]] + bs_r1([a[0] + a[2:])\n",
    "def bubble_sort(arr):\n",
    "    b = bs_r1(arr)\n",
    "    return bubble_sort(b[])\n"
   ]
  },
  {
   "cell_type": "markdown",
   "id": "14f9ef89-570b-4828-9323-8cb72ffb24e4",
   "metadata": {},
   "source": [
    "## 2. The majority element of an array\n",
    "## a. O(n) [cannot use a dictionary]\n",
    "## b. O(n) [cannot use a dictionary]\n"
   ]
  },
  {
   "cell_type": "markdown",
   "id": "d851d801-8537-4159-af3c-d6afdc009d4c",
   "metadata": {},
   "source": [
    "# 3. You are given a sorted list of unique elements that were rotated. Find the smallest element in O(log(n)) complexity"
   ]
  },
  {
   "cell_type": "markdown",
   "id": "11ae3461-604b-40ac-b8e7-abe033f2d6b1",
   "metadata": {},
   "source": [
    "## 4. You are given a matrix whose rows and columns are sorted in ascending order. Wrot"
   ]
  }
 ],
 "metadata": {
  "kernelspec": {
   "display_name": "Python 3 (ipykernel)",
   "language": "python",
   "name": "python3"
  },
  "language_info": {
   "codemirror_mode": {
    "name": "ipython",
    "version": 3
   },
   "file_extension": ".py",
   "mimetype": "text/x-python",
   "name": "python",
   "nbconvert_exporter": "python",
   "pygments_lexer": "ipython3",
   "version": "3.12.8"
  }
 },
 "nbformat": 4,
 "nbformat_minor": 5
}
