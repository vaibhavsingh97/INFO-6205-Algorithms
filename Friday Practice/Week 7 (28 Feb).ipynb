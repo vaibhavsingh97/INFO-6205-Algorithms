{
 "cells": [
  {
   "cell_type": "markdown",
   "id": "ce64b845-edd9-42c5-afa5-e8ed7b3a42f1",
   "metadata": {},
   "source": [
    "# Questions"
   ]
  },
  {
   "cell_type": "markdown",
   "id": "ddec97ab-d8c6-49e8-9150-67e8b2cbb713",
   "metadata": {},
   "source": [
    "## 1. Implement a full recursive version of bubble sort"
   ]
  },
  {
   "cell_type": "code",
   "execution_count": 4,
   "id": "77fcbe98-9ddd-4658-9bb4-fbc3cc5f61e4",
   "metadata": {},
   "outputs": [
    {
     "name": "stdout",
     "output_type": "stream",
     "text": [
      "Sorted list: [1, 1, 2, 3, 4, 5, 6, 9]\n"
     ]
    }
   ],
   "source": [
    "def bubble_pass(lst):\n",
    "    \"\"\"\n",
    "    Perform one bubble pass over the list.\n",
    "    This function compares adjacent elements and 'bubbles' the largest\n",
    "    element toward the end of the list.\n",
    "    \"\"\"\n",
    "    n = len(lst)\n",
    "    # Base case: if the list is empty or has one element, it is already sorted.\n",
    "    if n <= 1:\n",
    "        return lst\n",
    "    # Base case: if there are exactly two elements, return them in sorted order.\n",
    "    if n == 2:\n",
    "        return lst if lst[0] <= lst[1] else lst[::-1]\n",
    "\n",
    "    # Recursively perform a bubble pass on the tail (elements after the first).\n",
    "    bubbled_tail = bubble_pass(lst[1:])\n",
    "    \n",
    "    # Compare the first element with the first element of the bubbled tail:\n",
    "    if lst[0] <= bubbled_tail[0]:\n",
    "        # If the first element is less or equal, it is in the correct position.\n",
    "        return [lst[0]] + bubbled_tail\n",
    "    else:\n",
    "        # If the first element is greater, swap it with the head of bubbled_tail.\n",
    "        # Then, perform bubble_pass again on the new list constructed from lst[0] and the rest of bubbled_tail.\n",
    "        return [bubbled_tail[0]] + bubble_pass([lst[0]] + bubbled_tail[1:])\n",
    "\n",
    "\n",
    "def bubble_sort(lst):\n",
    "    \"\"\"\n",
    "    Recursively sort the list using bubble passes.\n",
    "    After each pass, the largest element is placed at the end of the list.\n",
    "    The function then sorts the remaining list and appends the largest element.\n",
    "    \"\"\"\n",
    "    n = len(lst)\n",
    "    # Base case: a list with 0 or 1 element is already sorted.\n",
    "    if n <= 1:\n",
    "        return lst\n",
    "\n",
    "    # Perform one complete bubble pass to move the largest element to the end.\n",
    "    bubbled = bubble_pass(lst)\n",
    "    # Recursively sort the list excluding the last element (which is correctly placed),\n",
    "    # and then append that last element to the sorted list.\n",
    "    return bubble_sort(bubbled[:-1]) + [bubbled[-1]]\n",
    "\n",
    "\n",
    "\n",
    "unsorted_list = [3, 1, 4, 1, 5, 9, 2, 6]\n",
    "sorted_list = bubble_sort(unsorted_list)\n",
    "print(\"Sorted list:\", sorted_list)\n"
   ]
  },
  {
   "cell_type": "markdown",
   "id": "14f9ef89-570b-4828-9323-8cb72ffb24e4",
   "metadata": {},
   "source": [
    "## 2. The majority element of an array\n",
    "## a. O(n) [cannot use a dictionary]\n",
    "## b. O(n) [cannot use a dictionary]\n"
   ]
  },
  {
   "cell_type": "code",
   "execution_count": 9,
   "id": "e394a2d9-5273-46ee-aca2-9ccfc701dde2",
   "metadata": {},
   "outputs": [
    {
     "name": "stdout",
     "output_type": "stream",
     "text": [
      "[2, 2, 3, 3, 3]\n",
      "3\n"
     ]
    }
   ],
   "source": [
    "def majorityElement(arr):\n",
    "    # Get the total number of elements in the array.\n",
    "    n = len(arr)\n",
    "    \n",
    "    # Initialize the variable to store the majority element.\n",
    "    # This will accumulate the bits of the majority element.\n",
    "    majority = 0\n",
    "    \n",
    "    # Loop over each bit position (0 to 31) for a 32-bit integer.\n",
    "    for i in range(32):\n",
    "        count = 0\n",
    "        \n",
    "        # For each number in the array, count how many have the i-th bit set.\n",
    "        for j in range(len(arr)):\n",
    "            # (1 << i) creates a number with only the i-th bit set.\n",
    "            # The expression arr[j] & (1 << i) checks if the i-th bit is set in arr[j].\n",
    "            if arr[j] & (1 << i) != 0:\n",
    "                count += 1\n",
    "        \n",
    "        # If the count of numbers with the i-th bit set is greater than half of the array length,\n",
    "        # then the majority element must have that bit set.\n",
    "        if count > n // 2:\n",
    "            # Set the i-th bit in the majority element.\n",
    "            majority += 1 << i\n",
    "            \n",
    "    # Return the computed majority element.\n",
    "    return majority\n",
    "\n",
    "# Example usage:\n",
    "arr = [2, 2, 3, 3, 3]\n",
    "print(arr)\n",
    "print(majorityElement(arr))\n"
   ]
  },
  {
   "cell_type": "code",
   "execution_count": 12,
   "id": "e0e44981-d5be-4dad-9e65-5eee17ccf6d2",
   "metadata": {},
   "outputs": [
    {
     "name": "stdout",
     "output_type": "stream",
     "text": [
      "Array: [2, 2, 1, 1, 1, 2, 2]\n",
      "Majority element is: 2\n"
     ]
    }
   ],
   "source": [
    "def find_majority_element(arr):\n",
    "    # Initialize candidate for majority element and counter\n",
    "    candidate = None\n",
    "    count = 0\n",
    "    \n",
    "    # First pass: Find a potential majority candidate.\n",
    "    # This loop uses the Boyer-Moore Voting Algorithm.\n",
    "    for num in arr:\n",
    "        # When count is 0, choose the current element as the new candidate.\n",
    "        if count == 0:\n",
    "            candidate = num\n",
    "            count = 1\n",
    "        # If the current element is the same as the candidate, increment the count.\n",
    "        elif candidate == num:\n",
    "            count += 1\n",
    "        # If the current element is different, decrement the count.\n",
    "        else:\n",
    "            count -= 1\n",
    "    \n",
    "    # Second pass: Verify that the candidate appears more than n/2 times.\n",
    "    # This check is necessary because the algorithm guarantees a candidate\n",
    "    # only if a majority element exists.\n",
    "    if arr.count(candidate) > len(arr) // 2:\n",
    "        return candidate\n",
    "    else:\n",
    "        # If candidate does not occur more than n/2 times, there is no majority element.\n",
    "        return None\n",
    "\n",
    "# Example usage:\n",
    "arr = [2, 2, 1, 1, 1, 2, 2]\n",
    "print(\"Array:\", arr)\n",
    "majority = find_majority_element(arr)\n",
    "print(\"Majority element is:\", majority)\n"
   ]
  },
  {
   "cell_type": "markdown",
   "id": "d851d801-8537-4159-af3c-d6afdc009d4c",
   "metadata": {},
   "source": [
    "# 3. You are given a sorted list of unique elements that were rotated. Find the smallest element in O(log(n)) complexity"
   ]
  },
  {
   "cell_type": "code",
   "execution_count": 15,
   "id": "a12fcccd-2f1c-4af5-9a9b-247dc2aac97b",
   "metadata": {},
   "outputs": [
    {
     "name": "stdout",
     "output_type": "stream",
     "text": [
      "1\n"
     ]
    }
   ],
   "source": [
    "def find_min_in_rotated_sorted_list(nums):\n",
    "    left, right = 0, len(nums) - 1\n",
    "    \n",
    "    # If the array is already sorted (not rotated), the first element is the smallest\n",
    "    if nums[left] < nums[right]:\n",
    "        return nums[left]\n",
    "    \n",
    "    # Binary search approach\n",
    "    while left < right:\n",
    "        mid = (left + right) // 2\n",
    "        \n",
    "        # If the mid element is greater than the rightmost element,\n",
    "        # then the smallest element is to the right of mid\n",
    "        if nums[mid] > nums[right]:\n",
    "            left = mid + 1\n",
    "        else:\n",
    "            # Otherwise, the smallest element is at mid or to its left\n",
    "            right = mid\n",
    "    \n",
    "    # At the end, left == right, pointing to the smallest element\n",
    "    return nums[left]\n",
    "\n",
    "rotated_list = [5, 6, 7, 1, 2, 3, 4]\n",
    "print(find_min_in_rotated_sorted_list(rotated_list))  # Output: 1\n"
   ]
  },
  {
   "cell_type": "markdown",
   "id": "11ae3461-604b-40ac-b8e7-abe033f2d6b1",
   "metadata": {},
   "source": [
    "## 4. You are given a matrix whose rows and columns are sorted in ascending order. Write a greedy method to find if the matrix includes a specific number, and a devide and conqor implementation that returns it's position."
   ]
  },
  {
   "cell_type": "code",
   "execution_count": 18,
   "id": "9f9a89c6-9c21-4b46-8881-961501254c31",
   "metadata": {},
   "outputs": [
    {
     "name": "stdout",
     "output_type": "stream",
     "text": [
      "13 is present in the matrix: True\n"
     ]
    }
   ],
   "source": [
    "def search_matrix_greedy(matrix, target):\n",
    "    \"\"\"\n",
    "    Approach:\n",
    "    1. Check if the matrix is empty or if its first row is empty; if so, return False immediately.\n",
    "    2. Start from the top-right corner of the matrix.\n",
    "    3. Compare the current element to the target:\n",
    "       - If it is equal, return True.\n",
    "       - If it is greater, move left to look for smaller elements.\n",
    "       - If it is smaller, move down to look for larger elements.\n",
    "    4. If we move out of the matrix boundaries without finding the target, return False.\n",
    "    \"\"\"\n",
    "    # If the matrix is empty or its first row is empty, no need to search\n",
    "    if not matrix or not matrix[0]:\n",
    "        return False\n",
    "    \n",
    "    # Get the number of rows and columns\n",
    "    rows, cols = len(matrix), len(matrix[0])\n",
    "    \n",
    "    # Start from the top-right corner\n",
    "    # r points to the current row, c points to the current column\n",
    "    r, c = 0, cols - 1\n",
    "    \n",
    "    # Keep searching as long as we are within the matrix boundaries\n",
    "    while r < rows and c >= 0:\n",
    "        # Check if the current element is the target\n",
    "        if matrix[r][c] == target:\n",
    "            return True\n",
    "        # If the current element is larger than the target, move left\n",
    "        # to get a smaller element\n",
    "        elif matrix[r][c] > target:\n",
    "            c -= 1\n",
    "        # Otherwise, if the current element is smaller, move down\n",
    "        # to get a larger element\n",
    "        else:\n",
    "            r += 1\n",
    "    \n",
    "    # If we exit the loop, it means we didn't find the target\n",
    "    return False\n",
    "\n",
    "mat = [[1,2,3,4],\n",
    "      [5,6,7,8],\n",
    "      [9,10,11,12],\n",
    "      [13,14,15,16]]\n",
    "\n",
    "print(f\"13 is present in the matrix: {search_matrix_greedy(mat, 13)}\")\n"
   ]
  },
  {
   "cell_type": "code",
   "execution_count": 9,
   "id": "a926b683-ef9f-4b15-bc1a-c7550c71a6ac",
   "metadata": {},
   "outputs": [
    {
     "name": "stdout",
     "output_type": "stream",
     "text": [
      "Found 14 at 3 1\n"
     ]
    }
   ],
   "source": [
    "def search(mat, from_row, to_row, from_col, to_col, key):\n",
    "    # Compute the middle element's indices in the current submatrix.\n",
    "    mid_row = from_row + (to_row - from_row) // 2\n",
    "    mid_col = from_col + (to_col - from_col) // 2\n",
    "\n",
    "    # Check if the middle element is the target key.\n",
    "    if mat[mid_row][mid_col] == key:\n",
    "        print(\"Found\", key, \"at\", mid_row, mid_col)\n",
    "        return\n",
    "\n",
    "    # If the submatrix can still be divided further (i.e., it's larger than a single element),\n",
    "    # recursively search in the top-right submatrix.\n",
    "    if mid_row != to_row or mid_col != from_col:\n",
    "        # This recursive call searches the submatrix:\n",
    "        # - Rows: from from_row to mid_row\n",
    "        # - Columns: from mid_col to to_col\n",
    "        search(mat, from_row, mid_row, mid_col, to_col, key)\n",
    "\n",
    "    # Special case: When the submatrix has exactly two adjacent columns in a single row,\n",
    "    # check the element in the second column.\n",
    "    if from_row == to_row and from_col + 1 == to_col:\n",
    "        if mat[from_row][to_col] == key:\n",
    "            print(\"Found\", key, \"at\", from_row, to_col)\n",
    "            return\n",
    "\n",
    "    # If the middle element is less than the key, then the key (if it exists)\n",
    "    # must be located in the bottom part of the submatrix.\n",
    "    if mat[mid_row][mid_col] < key:\n",
    "        if mid_row + 1 <= to_row:\n",
    "            search(mat, mid_row + 1, to_row, from_col, to_col, key)\n",
    "    else:\n",
    "        # If the middle element is greater than the key, then the key (if it exists)\n",
    "        # must be in the left part of the submatrix.\n",
    "        if mid_col - 1 >= from_col:\n",
    "            search(mat, from_row, to_row, from_col, mid_col - 1, key)\n",
    "\n",
    "# Example matrix (4x4)\n",
    "matrix = [\n",
    "    [1, 2, 3, 4],\n",
    "    [5, 6, 7, 8],\n",
    "    [9, 10, 11, 12],\n",
    "    [13, 14, 15, 16]\n",
    "]\n",
    "\n",
    "# Example: Search for key 11 in the entire matrix.\n",
    "search(matrix, 0, len(matrix) - 1, 0, len(matrix[0]) - 1, 14)\n"
   ]
  }
 ],
 "metadata": {
  "kernelspec": {
   "display_name": "Python 3 (ipykernel)",
   "language": "python",
   "name": "python3"
  },
  "language_info": {
   "codemirror_mode": {
    "name": "ipython",
    "version": 3
   },
   "file_extension": ".py",
   "mimetype": "text/x-python",
   "name": "python",
   "nbconvert_exporter": "python",
   "pygments_lexer": "ipython3",
   "version": "3.9.21"
  }
 },
 "nbformat": 4,
 "nbformat_minor": 5
}
