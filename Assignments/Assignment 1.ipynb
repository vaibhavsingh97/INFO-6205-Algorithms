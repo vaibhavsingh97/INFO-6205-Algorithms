{
 "cells": [
  {
   "cell_type": "markdown",
   "id": "809ea401-8c4e-44d8-87b8-77919bb5b66e",
   "metadata": {},
   "source": [
    "# Halting Problem\n",
    "\n",
    "```\n",
    "Write, in Python, the code for an algorithm which, given the code of any algorithm represented as a string, outputs 1 if that algorithm outputs 0 when its own code is the input. Otherwise, output 0\n",
    "```\n",
    "\n",
    "## Introduction\n",
    "This is an intriguing problem in computer science that involves self-reference and computational impossibility. The problem asks us to write a program that analyzes the behaviour of other programs when given your own code as input.\n",
    "\n",
    "## Understanding the paradox\n",
    "Lets say if we run our own program as an input to the code, if the function returns `1` then by defination, `solve(its_own_code)` must output 0 but if it output `0`, then `solve(its_own_code)` must return 1 which creates an infinte loop of contridiction.\n",
    "\n",
    "## Approach\n",
    "1. Takes a string containing program code as input\n",
    "2. Execute the program code using `exec` function in python\n",
    "3. returns the result of running the input program with it's own code\n"
   ]
  },
  {
   "cell_type": "code",
   "execution_count": 15,
   "id": "253dcac8-8354-4f54-b1a0-ca1f2c8a4da6",
   "metadata": {},
   "outputs": [
    {
     "name": "stdout",
     "output_type": "stream",
     "text": [
      "1\n"
     ]
    }
   ],
   "source": [
    "\"\"\"\n",
    "Attempts to analyze a program's behavior when given its own code.\n",
    "\n",
    "Args:\n",
    "    code (str): Source code of the program to analyze\n",
    "    \n",
    "Returns:\n",
    "    int: 1 if the program outputs 0 when given its own code\n",
    "         0 if the program outputs 1 when given its own code\n",
    "\"\"\"\n",
    "def solve(code: str) -> int:\n",
    "    def exec_code(source: str):\n",
    "        \"\"\"\n",
    "        Executes the provided source code in a clean local scope.\n",
    "        \"\"\"\n",
    "        local_scope = {}\n",
    "        exec(source, {}, local_scope)\n",
    "        return local_scope['solve'](code)\n",
    "    \n",
    "    try:\n",
    "        result = exec_code(code)\n",
    "        if result == 0:\n",
    "            return 1\n",
    "        return 0\n",
    "    except Exception as e:\n",
    "        return f\"Error: {e}\"\n",
    "\n",
    "# Example usage\n",
    "code = '''\n",
    "def solve(code):\n",
    "    def exec_code(source):\n",
    "        local_scope = {}\n",
    "        exec(source, {}, local_scope)\n",
    "        return local_scope['solve'](code)\n",
    "    \n",
    "    try:\n",
    "        result = exec_code(code)\n",
    "        if result == 0:\n",
    "            return 1\n",
    "        return 0\n",
    "    except Exception as e:\n",
    "        return f\"Error: {e}\"\n",
    "'''\n",
    "\n",
    "print(solve(code))"
   ]
  }
 ],
 "metadata": {
  "kernelspec": {
   "display_name": "Python 3 (ipykernel)",
   "language": "python",
   "name": "python3"
  },
  "language_info": {
   "codemirror_mode": {
    "name": "ipython",
    "version": 3
   },
   "file_extension": ".py",
   "mimetype": "text/x-python",
   "name": "python",
   "nbconvert_exporter": "python",
   "pygments_lexer": "ipython3",
   "version": "3.13.1"
  }
 },
 "nbformat": 4,
 "nbformat_minor": 5
}
